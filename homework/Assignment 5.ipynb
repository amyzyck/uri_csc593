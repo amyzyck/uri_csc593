{
 "cells": [
  {
   "cell_type": "markdown",
   "metadata": {},
   "source": [
    "# Assignment 5\n",
    "\n",
    "*(Due Saturday, October 19, 2019 at noon.)*"
   ]
  },
  {
   "cell_type": "markdown",
   "metadata": {},
   "source": [
    "1) Describe steps needed to clean your dataset. Are there badly-formatted or missing values that will need to be handled? Are you working with multiple files that need to be merged? Do you need to create any new derived fields? Describe the steps you expect to take to clean your data and prepare it for analysis."
   ]
  },
  {
   "cell_type": "markdown",
   "metadata": {},
   "source": [
    "1. Many of the samples are missing algal weight values, filled in as NA. I will either have to convert those NA's to numerical values (replacing the NA with a 9 or 0 to represent missing data) or I will have to ignore them entirely. If I would like to calculate the density of mussel spat on each algal clump, I will have to ignore the samples that do not have a recorded algal weight. \n",
    "2. Only 1 sample (1 mussel spat) in the entire dataset does not have measurement data. This sample can still contribute to the assessment of settlement rates of spat over the summer months. However, it will have to be recorded as missing data (NA, 9 or 0) on any assessment of spat growth throughout the summer. \n",
    "3. Right now all samples collected from 5 different sites are contained in one dataset. I would like to split the master dataset into 5 smaller datasets for each site to assess mussel spat settlement from April to September. \n",
    "4. I could also split the master dataset into smaller datasets for each date of collection to asssess how settlement varies across sites depending on the date. \n",
    "5. Within these smaller datasets, I will sort the data from smallest spat size to largest. I will sort the samples into different size classes to assess the growth and development of the mussel spat throughout the summer and across sites. "
   ]
  },
  {
   "cell_type": "markdown",
   "metadata": {},
   "source": [
    "2) Make a list of the fields in your data, including their names and types. If your input file is in a fixed-width format, also \n",
    "give the columns where each field appears in the data. There should be a \"codebook\" provided with your data that provides these details."
   ]
  },
  {
   "cell_type": "code",
   "execution_count": 20,
   "metadata": {},
   "outputs": [
    {
     "name": "stdout",
     "output_type": "stream",
     "text": [
      "Column Name\tColumn#   Type \t\tDescription\n",
      "Individual\tA\t  Character\tName of individual mussel spat sample with Site_DateCollected_Sample#\n",
      "Site\t\tB\t  Character\tCollection Site\n",
      "Date_Collected\tC\t  Number\tCollection Date\n",
      "Date_Processed\tD\t  Number\tDate sample was processed\n",
      "Algal_#\t\tE\t  Number\t1-5 algal clumps collected for each collection date for each site: # of the algal clump the spat was found on (processed in numerical order)\n",
      "Algae wt (g)\tF\t  Number\tWeight of algal clump from which spat were collected\n",
      "Eyespot\t\tG\t  Number\tPresence or absence of an eyespot of spat shell (1 = present; 0 = absent)\n",
      "OMU_size\tH\t  Number\tOcular measurement unit of spat \n",
      "Magnification\tI\t  Number\tMagnification of scope when spat were measured in OMU\n",
      "Scope\t\tJ\t  Character\tInitials of scope used for spat measurement \n",
      "Initials\tK\t  Character\tInitials of person processing the spat samples \n",
      "Size\t\tL\t  Number\tSize of spat (mm)\n",
      "Julian Day\tM\t  Number\tCollection date converted to Julian Day (1 - 365 Julian Days in a year) \n"
     ]
    }
   ],
   "source": [
    "with open('/Users/azyck/Documents/Fall_2019_Classes/CSC593/MusselSpat_README.txt', 'r') as f:\n",
    "    print(f.read())"
   ]
  },
  {
   "cell_type": "markdown",
   "metadata": {},
   "source": [
    "3) List at least 3 questions you hope to be able to answer by analyzing your data."
   ]
  },
  {
   "cell_type": "markdown",
   "metadata": {},
   "source": [
    "1. During which month/dates of the summer does peak settlement of mussel spat occur in Southwest England? \n",
    "2. How does the timing of settlement vary across sites in Southwest England that are about 30 km apart? \n",
    "3. Is settlement typically dominated by smaller or larger spat sizes? "
   ]
  },
  {
   "cell_type": "markdown",
   "metadata": {},
   "source": [
    "**Finally,** run the next two blocks."
   ]
  },
  {
   "cell_type": "code",
   "execution_count": 5,
   "metadata": {},
   "outputs": [
    {
     "data": {
      "text/plain": [
       "'1.2.0'"
      ]
     },
     "execution_count": 5,
     "metadata": {},
     "output_type": "execute_result"
    }
   ],
   "source": [
    "import xlrd\n",
    "xlrd.__version__"
   ]
  },
  {
   "cell_type": "code",
   "execution_count": 6,
   "metadata": {},
   "outputs": [
    {
     "data": {
      "text/plain": [
       "'3.0.0'"
      ]
     },
     "execution_count": 6,
     "metadata": {},
     "output_type": "execute_result"
    }
   ],
   "source": [
    "import openpyxl\n",
    "openpyxl.__version__"
   ]
  },
  {
   "cell_type": "code",
   "execution_count": null,
   "metadata": {},
   "outputs": [],
   "source": []
  },
  {
   "cell_type": "markdown",
   "metadata": {},
   "source": [
    "#### Submitting\n",
    "\n",
    "In the Terminal (Mac) or Git Bash (Windows):\n",
    "\n",
    "`git commit -a -m 'Assignment 3 completed'`  \n",
    "`git push`"
   ]
  },
  {
   "cell_type": "markdown",
   "metadata": {},
   "source": [
    "### Reading\n",
    "\n",
    "1. [RegexOne](https://regexone.com/): Lessons 1 through 10, and the [Python Reference](https://regexone.com/references/python)\n",
    "2. [10 Minutes to Pandas](https://pandas.pydata.org/pandas-docs/stable/getting_started/10min.html)\n",
    "3. [_Python for Data Analysis_](https://uri-primo.hosted.exlibrisgroup.com/permalink/f/10nopmq/01URI_ALMA51209454630002396):\n",
    "    * Section 1.3, \"Essential Python Libraries\"\n",
    "    * Chapter 5, \"Getting Started with `pandas`\"\n",
    "    * Sections 6.1, \"Reading and Writing Data in Text Format\" and 6.2, \"Binary Data Formats\""
   ]
  }
 ],
 "metadata": {
  "kernelspec": {
   "display_name": "Python 3",
   "language": "python",
   "name": "python3"
  },
  "language_info": {
   "codemirror_mode": {
    "name": "ipython",
    "version": 3
   },
   "file_extension": ".py",
   "mimetype": "text/x-python",
   "name": "python",
   "nbconvert_exporter": "python",
   "pygments_lexer": "ipython3",
   "version": "3.7.4"
  }
 },
 "nbformat": 4,
 "nbformat_minor": 2
}
