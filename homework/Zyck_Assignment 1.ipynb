{
 "cells": [
  {
   "cell_type": "markdown",
   "metadata": {},
   "source": [
    "# Assignment 1\n",
    "\n",
    "*(Due Saturday, September 14, 2019 at noon.)*"
   ]
  },
  {
   "cell_type": "markdown",
   "metadata": {},
   "source": [
    "This first assignment is simple and is really only intended to establish that\n",
    "\n",
    "1. You can work with Jupyter notebooks and push to a git repository to do and submit this class's homework assignments; and\n",
    "2. You've identified a usable dataset to work through the assignments and final project.\n",
    "\n",
    "Answer each question in the empty cell below it."
   ]
  },
  {
   "cell_type": "markdown",
   "metadata": {},
   "source": [
    "### Question 1\n",
    "\n",
    "Are there any particular topics you would be interested in covering that aren't listed on the syllabus?"
   ]
  },
  {
   "cell_type": "markdown",
   "metadata": {},
   "source": [
    "If there is time this semester, I would like to learn about skimage and other image processing packages. "
   ]
  },
  {
   "cell_type": "markdown",
   "metadata": {},
   "source": [
    "### Question 2\n",
    "\n",
    "Provide a download link for the dataset you plan to use for the remainder of the course. A simple URL may be sufficient for this; if not, provide detailed download instructions."
   ]
  },
  {
   "cell_type": "markdown",
   "metadata": {},
   "source": [
    "Link to Google Sheet: https://docs.google.com/spreadsheets/d/1VyfARJvjE9eU7c0fU5BDMnwae63TnqWalp44fZwzW10/edit?usp=sharing \n",
    "\n",
    "Juvenile marine mussels, called spat, were collected from 5 intertidal sites in Southwest England between April and September of 2012. These spat are typically found attached to clumps of red algae, so an average of 5 algal clumps were collected from each site on each sampling day. Spat were then removed from the algal clump, measured, checked for an eyespot, and then preserved for further genetic analysis. Algal clumps were weighed before and after spat were removed to obtain dry weight measurements for density calculations. "
   ]
  },
  {
   "cell_type": "markdown",
   "metadata": {},
   "source": [
    "## Reading for next week:\n",
    "\n",
    "https://www.learnpython.org/: Read the \"Learn the Basics\" tutorials from \"Hello, World!\" to \"Loops\"."
   ]
  }
 ],
 "metadata": {
  "kernelspec": {
   "display_name": "Python 3",
   "language": "python",
   "name": "python3"
  },
  "language_info": {
   "codemirror_mode": {
    "name": "ipython",
    "version": 3
   },
   "file_extension": ".py",
   "mimetype": "text/x-python",
   "name": "python",
   "nbconvert_exporter": "python",
   "pygments_lexer": "ipython3",
   "version": "3.7.4"
  }
 },
 "nbformat": 4,
 "nbformat_minor": 2
}
