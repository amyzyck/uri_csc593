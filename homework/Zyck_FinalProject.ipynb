{
 "cells": [
  {
   "cell_type": "markdown",
   "metadata": {},
   "source": [
    "# Investigation of mussel spat settlement in Southwest England \n",
    "\n",
    "Author: Amy Zyck\n",
    "\n",
    "Last Updated: Dec. 19, 2019"
   ]
  },
  {
   "cell_type": "markdown",
   "metadata": {},
   "source": [
    "## Background "
   ]
  },
  {
   "cell_type": "markdown",
   "metadata": {},
   "source": [
    "This data describes juvenile mussel (spat) settlement throughout the summer months in Southwest England. Marine mussels have a sessile adult stage making them entirely dependent on their pelagic larval stage for long-distance dispersal and gene flow across populations. These larvae will exist in the water column for several weeks before settling on clumps of algae in the intertidal zone onshore. The mussel spat will continue to grow and development on the algae before their final settlement onto rocks in the intertidal zone. High levels of spat settlement will occur throughout the summer months, with a larger settlement event in the beginning of the summer, followed by several smaller settlement events throughout the remaining summer months. \n",
    "\n",
    "Clumps of red algae were collected by Dr. Jerry Hilbish from 5 intertidal sites in Southwest England every few days between April and September of 2012. Algal clumps were preserved in ethanol and brought back to the University of South Carolina for processing. For each collected algal clump, settled spat were removed, measured, checked for an eyespot, and then preserved for further genetic analysis. Each row in the data set corresponds to an individual mussel spat sample. Algal clumps were weighed before and after spat were removed to obtain dry weight measurements for density calculations. Sample processing was completed by various lab members in the Hilbish lab, including myself. \n",
    "\n",
    "The variables relevant to the settement analysis include the Individuals (settled spat), the Site (from which they were sampled), the Algae weight (for calculating settlement density), Eyespot (presence or absence), the spat Size (mm), and the Julian_Day (collection date). The spat size (mm) was calculated taking into consideration the OMU Size and Microscope Magnification used during measurement. "
   ]
  },
  {
   "cell_type": "markdown",
   "metadata": {},
   "source": [
    "## Data Processing "
   ]
  },
  {
   "cell_type": "code",
   "execution_count": 1,
   "metadata": {},
   "outputs": [],
   "source": [
    "#Loading necessary packages for all steps of analysis\n",
    "import numpy as np\n",
    "import pandas as pd\n",
    "import matplotlib.pyplot as plt\n",
    "import seaborn as sns\n",
    "import statsmodels.api as sm\n",
    "from scipy import stats #to run t-test\n",
    "\n",
    "%matplotlib notebook"
   ]
  },
  {
   "cell_type": "markdown",
   "metadata": {},
   "source": [
    "### Loading, Cleaning, and Preparing Data"
   ]
  },
  {
   "cell_type": "markdown",
   "metadata": {},
   "source": [
    "I loaded in the dataset twice as a .csv file. For both, the file path is dependent on where the file is saved - the path below will not work for anyone else. First, the dataset is read in its entirety - this data will be used on most anlyses. "
   ]
  },
  {
   "cell_type": "code",
   "execution_count": 2,
   "metadata": {},
   "outputs": [
    {
     "data": {
      "text/html": [
       "<div>\n",
       "<style scoped>\n",
       "    .dataframe tbody tr th:only-of-type {\n",
       "        vertical-align: middle;\n",
       "    }\n",
       "\n",
       "    .dataframe tbody tr th {\n",
       "        vertical-align: top;\n",
       "    }\n",
       "\n",
       "    .dataframe thead th {\n",
       "        text-align: right;\n",
       "    }\n",
       "</style>\n",
       "<table border=\"1\" class=\"dataframe\">\n",
       "  <thead>\n",
       "    <tr style=\"text-align: right;\">\n",
       "      <th></th>\n",
       "      <th>Individual</th>\n",
       "      <th>Site</th>\n",
       "      <th>Date_Collected</th>\n",
       "      <th>Date_Processed</th>\n",
       "      <th>Algal_clump</th>\n",
       "      <th>Algae_wt_(g)</th>\n",
       "      <th>Eyespot</th>\n",
       "      <th>OMU_size</th>\n",
       "      <th>Magnification</th>\n",
       "      <th>Scope</th>\n",
       "      <th>Initials</th>\n",
       "      <th>Size</th>\n",
       "      <th>Julian_Day</th>\n",
       "    </tr>\n",
       "  </thead>\n",
       "  <tbody>\n",
       "    <tr>\n",
       "      <td>0</td>\n",
       "      <td>DD_10Jun12_1</td>\n",
       "      <td>DD</td>\n",
       "      <td>10-Jun-12</td>\n",
       "      <td>29-Jun-14</td>\n",
       "      <td>2</td>\n",
       "      <td>NaN</td>\n",
       "      <td>1.0</td>\n",
       "      <td>28.0</td>\n",
       "      <td>4.0</td>\n",
       "      <td>H</td>\n",
       "      <td>NM</td>\n",
       "      <td>0.700</td>\n",
       "      <td>162</td>\n",
       "    </tr>\n",
       "    <tr>\n",
       "      <td>1</td>\n",
       "      <td>DD_10Jun12_2</td>\n",
       "      <td>DD</td>\n",
       "      <td>10-Jun-12</td>\n",
       "      <td>29-Jun-14</td>\n",
       "      <td>3</td>\n",
       "      <td>NaN</td>\n",
       "      <td>1.0</td>\n",
       "      <td>32.0</td>\n",
       "      <td>4.0</td>\n",
       "      <td>H</td>\n",
       "      <td>NM</td>\n",
       "      <td>0.800</td>\n",
       "      <td>162</td>\n",
       "    </tr>\n",
       "    <tr>\n",
       "      <td>2</td>\n",
       "      <td>DD_23Jun12_1</td>\n",
       "      <td>DD</td>\n",
       "      <td>23-Jun-12</td>\n",
       "      <td>1-Jul-14</td>\n",
       "      <td>1</td>\n",
       "      <td>NaN</td>\n",
       "      <td>1.0</td>\n",
       "      <td>33.0</td>\n",
       "      <td>4.0</td>\n",
       "      <td>H</td>\n",
       "      <td>NM</td>\n",
       "      <td>0.825</td>\n",
       "      <td>175</td>\n",
       "    </tr>\n",
       "    <tr>\n",
       "      <td>3</td>\n",
       "      <td>DD_23Jun12_10</td>\n",
       "      <td>DD</td>\n",
       "      <td>23-Jun-12</td>\n",
       "      <td>1-Jul-14</td>\n",
       "      <td>5</td>\n",
       "      <td>NaN</td>\n",
       "      <td>1.0</td>\n",
       "      <td>30.0</td>\n",
       "      <td>4.0</td>\n",
       "      <td>H</td>\n",
       "      <td>NM</td>\n",
       "      <td>0.750</td>\n",
       "      <td>175</td>\n",
       "    </tr>\n",
       "    <tr>\n",
       "      <td>4</td>\n",
       "      <td>DD_23Jun12_2</td>\n",
       "      <td>DD</td>\n",
       "      <td>23-Jun-12</td>\n",
       "      <td>1-Jul-14</td>\n",
       "      <td>1</td>\n",
       "      <td>NaN</td>\n",
       "      <td>1.0</td>\n",
       "      <td>30.0</td>\n",
       "      <td>4.0</td>\n",
       "      <td>H</td>\n",
       "      <td>NM</td>\n",
       "      <td>0.750</td>\n",
       "      <td>175</td>\n",
       "    </tr>\n",
       "  </tbody>\n",
       "</table>\n",
       "</div>"
      ],
      "text/plain": [
       "      Individual Site Date_Collected Date_Processed  Algal_clump  \\\n",
       "0   DD_10Jun12_1   DD      10-Jun-12      29-Jun-14            2   \n",
       "1   DD_10Jun12_2   DD      10-Jun-12      29-Jun-14            3   \n",
       "2   DD_23Jun12_1   DD      23-Jun-12       1-Jul-14            1   \n",
       "3  DD_23Jun12_10   DD      23-Jun-12       1-Jul-14            5   \n",
       "4   DD_23Jun12_2   DD      23-Jun-12       1-Jul-14            1   \n",
       "\n",
       "   Algae_wt_(g)  Eyespot  OMU_size  Magnification Scope Initials   Size  \\\n",
       "0           NaN      1.0      28.0            4.0     H       NM  0.700   \n",
       "1           NaN      1.0      32.0            4.0     H       NM  0.800   \n",
       "2           NaN      1.0      33.0            4.0     H       NM  0.825   \n",
       "3           NaN      1.0      30.0            4.0     H       NM  0.750   \n",
       "4           NaN      1.0      30.0            4.0     H       NM  0.750   \n",
       "\n",
       "   Julian_Day  \n",
       "0         162  \n",
       "1         162  \n",
       "2         175  \n",
       "3         175  \n",
       "4         175  "
      ]
     },
     "execution_count": 2,
     "metadata": {},
     "output_type": "execute_result"
    }
   ],
   "source": [
    "#load a csv.\n",
    "MSC = pd.read_csv('/Users/azyck/Documents/Fall_2019_Classes/CSC593/MusselSpat_2012.csv')\n",
    "MSC.head()"
   ]
  },
  {
   "cell_type": "markdown",
   "metadata": {},
   "source": [
    "Second, the dataset is read in again, but this time any samples missing data in the Algal_wt_(g) column are removed. This dataset will be used when calculating density to determine spat settlement. "
   ]
  },
  {
   "cell_type": "code",
   "execution_count": 3,
   "metadata": {},
   "outputs": [
    {
     "data": {
      "text/html": [
       "<div>\n",
       "<style scoped>\n",
       "    .dataframe tbody tr th:only-of-type {\n",
       "        vertical-align: middle;\n",
       "    }\n",
       "\n",
       "    .dataframe tbody tr th {\n",
       "        vertical-align: top;\n",
       "    }\n",
       "\n",
       "    .dataframe thead th {\n",
       "        text-align: right;\n",
       "    }\n",
       "</style>\n",
       "<table border=\"1\" class=\"dataframe\">\n",
       "  <thead>\n",
       "    <tr style=\"text-align: right;\">\n",
       "      <th></th>\n",
       "      <th>Individual</th>\n",
       "      <th>Site</th>\n",
       "      <th>Date_Collected</th>\n",
       "      <th>Date_Processed</th>\n",
       "      <th>Algal_clump</th>\n",
       "      <th>Algae_wt_(g)</th>\n",
       "      <th>Eyespot</th>\n",
       "      <th>OMU_size</th>\n",
       "      <th>Magnification</th>\n",
       "      <th>Scope</th>\n",
       "      <th>Initials</th>\n",
       "      <th>Size</th>\n",
       "      <th>Julian_Day</th>\n",
       "    </tr>\n",
       "  </thead>\n",
       "  <tbody>\n",
       "    <tr>\n",
       "      <td>507</td>\n",
       "      <td>PW_28May12_1</td>\n",
       "      <td>PW</td>\n",
       "      <td>28-May-12</td>\n",
       "      <td>17-Jul-14</td>\n",
       "      <td>1</td>\n",
       "      <td>0.0375</td>\n",
       "      <td>1.0</td>\n",
       "      <td>21.0</td>\n",
       "      <td>4.0</td>\n",
       "      <td>H</td>\n",
       "      <td>NM</td>\n",
       "      <td>0.525</td>\n",
       "      <td>149</td>\n",
       "    </tr>\n",
       "    <tr>\n",
       "      <td>508</td>\n",
       "      <td>PW_28May12_2</td>\n",
       "      <td>PW</td>\n",
       "      <td>28-May-12</td>\n",
       "      <td>17-Jul-14</td>\n",
       "      <td>1</td>\n",
       "      <td>0.0375</td>\n",
       "      <td>1.0</td>\n",
       "      <td>26.0</td>\n",
       "      <td>4.0</td>\n",
       "      <td>H</td>\n",
       "      <td>NM</td>\n",
       "      <td>0.650</td>\n",
       "      <td>149</td>\n",
       "    </tr>\n",
       "    <tr>\n",
       "      <td>509</td>\n",
       "      <td>PW_28May12_3</td>\n",
       "      <td>PW</td>\n",
       "      <td>28-May-12</td>\n",
       "      <td>17-Jul-14</td>\n",
       "      <td>1</td>\n",
       "      <td>0.0375</td>\n",
       "      <td>1.0</td>\n",
       "      <td>20.0</td>\n",
       "      <td>4.0</td>\n",
       "      <td>H</td>\n",
       "      <td>NM</td>\n",
       "      <td>0.500</td>\n",
       "      <td>149</td>\n",
       "    </tr>\n",
       "    <tr>\n",
       "      <td>510</td>\n",
       "      <td>PW_28May12_4</td>\n",
       "      <td>PW</td>\n",
       "      <td>28-May-12</td>\n",
       "      <td>17-Jul-14</td>\n",
       "      <td>1</td>\n",
       "      <td>0.0375</td>\n",
       "      <td>1.0</td>\n",
       "      <td>25.0</td>\n",
       "      <td>4.0</td>\n",
       "      <td>H</td>\n",
       "      <td>NM</td>\n",
       "      <td>0.625</td>\n",
       "      <td>149</td>\n",
       "    </tr>\n",
       "    <tr>\n",
       "      <td>511</td>\n",
       "      <td>PW_28May12_5</td>\n",
       "      <td>PW</td>\n",
       "      <td>28-May-12</td>\n",
       "      <td>17-Jul-14</td>\n",
       "      <td>1</td>\n",
       "      <td>0.0375</td>\n",
       "      <td>1.0</td>\n",
       "      <td>20.0</td>\n",
       "      <td>4.0</td>\n",
       "      <td>H</td>\n",
       "      <td>NM</td>\n",
       "      <td>0.500</td>\n",
       "      <td>149</td>\n",
       "    </tr>\n",
       "  </tbody>\n",
       "</table>\n",
       "</div>"
      ],
      "text/plain": [
       "       Individual Site Date_Collected Date_Processed  Algal_clump  \\\n",
       "507  PW_28May12_1   PW      28-May-12      17-Jul-14            1   \n",
       "508  PW_28May12_2   PW      28-May-12      17-Jul-14            1   \n",
       "509  PW_28May12_3   PW      28-May-12      17-Jul-14            1   \n",
       "510  PW_28May12_4   PW      28-May-12      17-Jul-14            1   \n",
       "511  PW_28May12_5   PW      28-May-12      17-Jul-14            1   \n",
       "\n",
       "     Algae_wt_(g)  Eyespot  OMU_size  Magnification Scope Initials   Size  \\\n",
       "507        0.0375      1.0      21.0            4.0     H       NM  0.525   \n",
       "508        0.0375      1.0      26.0            4.0     H       NM  0.650   \n",
       "509        0.0375      1.0      20.0            4.0     H       NM  0.500   \n",
       "510        0.0375      1.0      25.0            4.0     H       NM  0.625   \n",
       "511        0.0375      1.0      20.0            4.0     H       NM  0.500   \n",
       "\n",
       "     Julian_Day  \n",
       "507         149  \n",
       "508         149  \n",
       "509         149  \n",
       "510         149  \n",
       "511         149  "
      ]
     },
     "execution_count": 3,
     "metadata": {},
     "output_type": "execute_result"
    }
   ],
   "source": [
    "#load a csv.\n",
    "spat_data = pd.read_csv('/Users/azyck/Documents/Fall_2019_Classes/CSC593/MusselSpat_2012.csv').dropna(subset = ['Algae_wt_(g)']) #loading dataset and dropping samples with NaN (missing data) in the Algal_wt_(g) column\n",
    "spat_data.head()"
   ]
  },
  {
   "cell_type": "markdown",
   "metadata": {},
   "source": [
    "For both datasets, any other missing values are replaced with zeros, and still included in analyses. "
   ]
  },
  {
   "cell_type": "code",
   "execution_count": 4,
   "metadata": {},
   "outputs": [
    {
     "data": {
      "text/html": [
       "<div>\n",
       "<style scoped>\n",
       "    .dataframe tbody tr th:only-of-type {\n",
       "        vertical-align: middle;\n",
       "    }\n",
       "\n",
       "    .dataframe tbody tr th {\n",
       "        vertical-align: top;\n",
       "    }\n",
       "\n",
       "    .dataframe thead th {\n",
       "        text-align: right;\n",
       "    }\n",
       "</style>\n",
       "<table border=\"1\" class=\"dataframe\">\n",
       "  <thead>\n",
       "    <tr style=\"text-align: right;\">\n",
       "      <th></th>\n",
       "      <th>Individual</th>\n",
       "      <th>Site</th>\n",
       "      <th>Date_Collected</th>\n",
       "      <th>Date_Processed</th>\n",
       "      <th>Algal_clump</th>\n",
       "      <th>Algae_wt_(g)</th>\n",
       "      <th>Eyespot</th>\n",
       "      <th>OMU_size</th>\n",
       "      <th>Magnification</th>\n",
       "      <th>Scope</th>\n",
       "      <th>Initials</th>\n",
       "      <th>Size</th>\n",
       "      <th>Julian_Day</th>\n",
       "    </tr>\n",
       "  </thead>\n",
       "  <tbody>\n",
       "    <tr>\n",
       "      <td>0</td>\n",
       "      <td>DD_10Jun12_1</td>\n",
       "      <td>DD</td>\n",
       "      <td>10-Jun-12</td>\n",
       "      <td>29-Jun-14</td>\n",
       "      <td>2</td>\n",
       "      <td>0.0000</td>\n",
       "      <td>1.0</td>\n",
       "      <td>28.0</td>\n",
       "      <td>4.0</td>\n",
       "      <td>H</td>\n",
       "      <td>NM</td>\n",
       "      <td>0.700</td>\n",
       "      <td>162</td>\n",
       "    </tr>\n",
       "    <tr>\n",
       "      <td>1</td>\n",
       "      <td>DD_10Jun12_2</td>\n",
       "      <td>DD</td>\n",
       "      <td>10-Jun-12</td>\n",
       "      <td>29-Jun-14</td>\n",
       "      <td>3</td>\n",
       "      <td>0.0000</td>\n",
       "      <td>1.0</td>\n",
       "      <td>32.0</td>\n",
       "      <td>4.0</td>\n",
       "      <td>H</td>\n",
       "      <td>NM</td>\n",
       "      <td>0.800</td>\n",
       "      <td>162</td>\n",
       "    </tr>\n",
       "    <tr>\n",
       "      <td>2</td>\n",
       "      <td>DD_23Jun12_1</td>\n",
       "      <td>DD</td>\n",
       "      <td>23-Jun-12</td>\n",
       "      <td>1-Jul-14</td>\n",
       "      <td>1</td>\n",
       "      <td>0.0000</td>\n",
       "      <td>1.0</td>\n",
       "      <td>33.0</td>\n",
       "      <td>4.0</td>\n",
       "      <td>H</td>\n",
       "      <td>NM</td>\n",
       "      <td>0.825</td>\n",
       "      <td>175</td>\n",
       "    </tr>\n",
       "    <tr>\n",
       "      <td>3</td>\n",
       "      <td>DD_23Jun12_10</td>\n",
       "      <td>DD</td>\n",
       "      <td>23-Jun-12</td>\n",
       "      <td>1-Jul-14</td>\n",
       "      <td>5</td>\n",
       "      <td>0.0000</td>\n",
       "      <td>1.0</td>\n",
       "      <td>30.0</td>\n",
       "      <td>4.0</td>\n",
       "      <td>H</td>\n",
       "      <td>NM</td>\n",
       "      <td>0.750</td>\n",
       "      <td>175</td>\n",
       "    </tr>\n",
       "    <tr>\n",
       "      <td>4</td>\n",
       "      <td>DD_23Jun12_2</td>\n",
       "      <td>DD</td>\n",
       "      <td>23-Jun-12</td>\n",
       "      <td>1-Jul-14</td>\n",
       "      <td>1</td>\n",
       "      <td>0.0000</td>\n",
       "      <td>1.0</td>\n",
       "      <td>30.0</td>\n",
       "      <td>4.0</td>\n",
       "      <td>H</td>\n",
       "      <td>NM</td>\n",
       "      <td>0.750</td>\n",
       "      <td>175</td>\n",
       "    </tr>\n",
       "    <tr>\n",
       "      <td>...</td>\n",
       "      <td>...</td>\n",
       "      <td>...</td>\n",
       "      <td>...</td>\n",
       "      <td>...</td>\n",
       "      <td>...</td>\n",
       "      <td>...</td>\n",
       "      <td>...</td>\n",
       "      <td>...</td>\n",
       "      <td>...</td>\n",
       "      <td>...</td>\n",
       "      <td>...</td>\n",
       "      <td>...</td>\n",
       "      <td>...</td>\n",
       "    </tr>\n",
       "    <tr>\n",
       "      <td>8715</td>\n",
       "      <td>SH_20Aug12_50</td>\n",
       "      <td>SH</td>\n",
       "      <td>20-Aug-12</td>\n",
       "      <td>29-Jan-16</td>\n",
       "      <td>4</td>\n",
       "      <td>0.0518</td>\n",
       "      <td>0.0</td>\n",
       "      <td>91.0</td>\n",
       "      <td>2.5</td>\n",
       "      <td>H</td>\n",
       "      <td>AB</td>\n",
       "      <td>4.550</td>\n",
       "      <td>233</td>\n",
       "    </tr>\n",
       "    <tr>\n",
       "      <td>8716</td>\n",
       "      <td>SH_20Aug12_193</td>\n",
       "      <td>SH</td>\n",
       "      <td>20-Aug-12</td>\n",
       "      <td>29-Jan-16</td>\n",
       "      <td>4</td>\n",
       "      <td>0.0518</td>\n",
       "      <td>0.0</td>\n",
       "      <td>95.0</td>\n",
       "      <td>2.5</td>\n",
       "      <td>H</td>\n",
       "      <td>AB</td>\n",
       "      <td>4.750</td>\n",
       "      <td>233</td>\n",
       "    </tr>\n",
       "    <tr>\n",
       "      <td>8717</td>\n",
       "      <td>SH_20Aug12_201</td>\n",
       "      <td>SH</td>\n",
       "      <td>20-Aug-12</td>\n",
       "      <td>29-Jan-16</td>\n",
       "      <td>4</td>\n",
       "      <td>0.0518</td>\n",
       "      <td>0.0</td>\n",
       "      <td>99.0</td>\n",
       "      <td>2.0</td>\n",
       "      <td>H</td>\n",
       "      <td>AB</td>\n",
       "      <td>4.950</td>\n",
       "      <td>233</td>\n",
       "    </tr>\n",
       "    <tr>\n",
       "      <td>8718</td>\n",
       "      <td>SH_20Aug12_116</td>\n",
       "      <td>SH</td>\n",
       "      <td>20-Aug-12</td>\n",
       "      <td>29-Jan-16</td>\n",
       "      <td>4</td>\n",
       "      <td>0.0518</td>\n",
       "      <td>0.0</td>\n",
       "      <td>100.0</td>\n",
       "      <td>2.0</td>\n",
       "      <td>H</td>\n",
       "      <td>AB</td>\n",
       "      <td>5.000</td>\n",
       "      <td>233</td>\n",
       "    </tr>\n",
       "    <tr>\n",
       "      <td>8719</td>\n",
       "      <td>SH_20Aug12_205</td>\n",
       "      <td>SH</td>\n",
       "      <td>20-Aug-12</td>\n",
       "      <td>29-Jan-16</td>\n",
       "      <td>4</td>\n",
       "      <td>0.0518</td>\n",
       "      <td>0.0</td>\n",
       "      <td>98.0</td>\n",
       "      <td>1.2</td>\n",
       "      <td>H</td>\n",
       "      <td>AB</td>\n",
       "      <td>7.840</td>\n",
       "      <td>233</td>\n",
       "    </tr>\n",
       "  </tbody>\n",
       "</table>\n",
       "<p>8720 rows × 13 columns</p>\n",
       "</div>"
      ],
      "text/plain": [
       "          Individual Site Date_Collected Date_Processed  Algal_clump  \\\n",
       "0       DD_10Jun12_1   DD      10-Jun-12      29-Jun-14            2   \n",
       "1       DD_10Jun12_2   DD      10-Jun-12      29-Jun-14            3   \n",
       "2       DD_23Jun12_1   DD      23-Jun-12       1-Jul-14            1   \n",
       "3      DD_23Jun12_10   DD      23-Jun-12       1-Jul-14            5   \n",
       "4       DD_23Jun12_2   DD      23-Jun-12       1-Jul-14            1   \n",
       "...              ...  ...            ...            ...          ...   \n",
       "8715   SH_20Aug12_50   SH      20-Aug-12      29-Jan-16            4   \n",
       "8716  SH_20Aug12_193   SH      20-Aug-12      29-Jan-16            4   \n",
       "8717  SH_20Aug12_201   SH      20-Aug-12      29-Jan-16            4   \n",
       "8718  SH_20Aug12_116   SH      20-Aug-12      29-Jan-16            4   \n",
       "8719  SH_20Aug12_205   SH      20-Aug-12      29-Jan-16            4   \n",
       "\n",
       "      Algae_wt_(g)  Eyespot  OMU_size  Magnification Scope Initials   Size  \\\n",
       "0           0.0000      1.0      28.0            4.0     H       NM  0.700   \n",
       "1           0.0000      1.0      32.0            4.0     H       NM  0.800   \n",
       "2           0.0000      1.0      33.0            4.0     H       NM  0.825   \n",
       "3           0.0000      1.0      30.0            4.0     H       NM  0.750   \n",
       "4           0.0000      1.0      30.0            4.0     H       NM  0.750   \n",
       "...            ...      ...       ...            ...   ...      ...    ...   \n",
       "8715        0.0518      0.0      91.0            2.5     H       AB  4.550   \n",
       "8716        0.0518      0.0      95.0            2.5     H       AB  4.750   \n",
       "8717        0.0518      0.0      99.0            2.0     H       AB  4.950   \n",
       "8718        0.0518      0.0     100.0            2.0     H       AB  5.000   \n",
       "8719        0.0518      0.0      98.0            1.2     H       AB  7.840   \n",
       "\n",
       "      Julian_Day  \n",
       "0            162  \n",
       "1            162  \n",
       "2            175  \n",
       "3            175  \n",
       "4            175  \n",
       "...          ...  \n",
       "8715         233  \n",
       "8716         233  \n",
       "8717         233  \n",
       "8718         233  \n",
       "8719         233  \n",
       "\n",
       "[8720 rows x 13 columns]"
      ]
     },
     "execution_count": 4,
     "metadata": {},
     "output_type": "execute_result"
    }
   ],
   "source": [
    "#replace missing values with zeros.\n",
    "MSC.fillna(0)"
   ]
  },
  {
   "cell_type": "code",
   "execution_count": 5,
   "metadata": {},
   "outputs": [
    {
     "data": {
      "text/html": [
       "<div>\n",
       "<style scoped>\n",
       "    .dataframe tbody tr th:only-of-type {\n",
       "        vertical-align: middle;\n",
       "    }\n",
       "\n",
       "    .dataframe tbody tr th {\n",
       "        vertical-align: top;\n",
       "    }\n",
       "\n",
       "    .dataframe thead th {\n",
       "        text-align: right;\n",
       "    }\n",
       "</style>\n",
       "<table border=\"1\" class=\"dataframe\">\n",
       "  <thead>\n",
       "    <tr style=\"text-align: right;\">\n",
       "      <th></th>\n",
       "      <th>Individual</th>\n",
       "      <th>Site</th>\n",
       "      <th>Date_Collected</th>\n",
       "      <th>Date_Processed</th>\n",
       "      <th>Algal_clump</th>\n",
       "      <th>Algae_wt_(g)</th>\n",
       "      <th>Eyespot</th>\n",
       "      <th>OMU_size</th>\n",
       "      <th>Magnification</th>\n",
       "      <th>Scope</th>\n",
       "      <th>Initials</th>\n",
       "      <th>Size</th>\n",
       "      <th>Julian_Day</th>\n",
       "    </tr>\n",
       "  </thead>\n",
       "  <tbody>\n",
       "    <tr>\n",
       "      <td>507</td>\n",
       "      <td>PW_28May12_1</td>\n",
       "      <td>PW</td>\n",
       "      <td>28-May-12</td>\n",
       "      <td>17-Jul-14</td>\n",
       "      <td>1</td>\n",
       "      <td>0.0375</td>\n",
       "      <td>1.0</td>\n",
       "      <td>21.0</td>\n",
       "      <td>4.0</td>\n",
       "      <td>H</td>\n",
       "      <td>NM</td>\n",
       "      <td>0.525</td>\n",
       "      <td>149</td>\n",
       "    </tr>\n",
       "    <tr>\n",
       "      <td>508</td>\n",
       "      <td>PW_28May12_2</td>\n",
       "      <td>PW</td>\n",
       "      <td>28-May-12</td>\n",
       "      <td>17-Jul-14</td>\n",
       "      <td>1</td>\n",
       "      <td>0.0375</td>\n",
       "      <td>1.0</td>\n",
       "      <td>26.0</td>\n",
       "      <td>4.0</td>\n",
       "      <td>H</td>\n",
       "      <td>NM</td>\n",
       "      <td>0.650</td>\n",
       "      <td>149</td>\n",
       "    </tr>\n",
       "    <tr>\n",
       "      <td>509</td>\n",
       "      <td>PW_28May12_3</td>\n",
       "      <td>PW</td>\n",
       "      <td>28-May-12</td>\n",
       "      <td>17-Jul-14</td>\n",
       "      <td>1</td>\n",
       "      <td>0.0375</td>\n",
       "      <td>1.0</td>\n",
       "      <td>20.0</td>\n",
       "      <td>4.0</td>\n",
       "      <td>H</td>\n",
       "      <td>NM</td>\n",
       "      <td>0.500</td>\n",
       "      <td>149</td>\n",
       "    </tr>\n",
       "    <tr>\n",
       "      <td>510</td>\n",
       "      <td>PW_28May12_4</td>\n",
       "      <td>PW</td>\n",
       "      <td>28-May-12</td>\n",
       "      <td>17-Jul-14</td>\n",
       "      <td>1</td>\n",
       "      <td>0.0375</td>\n",
       "      <td>1.0</td>\n",
       "      <td>25.0</td>\n",
       "      <td>4.0</td>\n",
       "      <td>H</td>\n",
       "      <td>NM</td>\n",
       "      <td>0.625</td>\n",
       "      <td>149</td>\n",
       "    </tr>\n",
       "    <tr>\n",
       "      <td>511</td>\n",
       "      <td>PW_28May12_5</td>\n",
       "      <td>PW</td>\n",
       "      <td>28-May-12</td>\n",
       "      <td>17-Jul-14</td>\n",
       "      <td>1</td>\n",
       "      <td>0.0375</td>\n",
       "      <td>1.0</td>\n",
       "      <td>20.0</td>\n",
       "      <td>4.0</td>\n",
       "      <td>H</td>\n",
       "      <td>NM</td>\n",
       "      <td>0.500</td>\n",
       "      <td>149</td>\n",
       "    </tr>\n",
       "    <tr>\n",
       "      <td>...</td>\n",
       "      <td>...</td>\n",
       "      <td>...</td>\n",
       "      <td>...</td>\n",
       "      <td>...</td>\n",
       "      <td>...</td>\n",
       "      <td>...</td>\n",
       "      <td>...</td>\n",
       "      <td>...</td>\n",
       "      <td>...</td>\n",
       "      <td>...</td>\n",
       "      <td>...</td>\n",
       "      <td>...</td>\n",
       "      <td>...</td>\n",
       "    </tr>\n",
       "    <tr>\n",
       "      <td>8715</td>\n",
       "      <td>SH_20Aug12_50</td>\n",
       "      <td>SH</td>\n",
       "      <td>20-Aug-12</td>\n",
       "      <td>29-Jan-16</td>\n",
       "      <td>4</td>\n",
       "      <td>0.0518</td>\n",
       "      <td>0.0</td>\n",
       "      <td>91.0</td>\n",
       "      <td>2.5</td>\n",
       "      <td>H</td>\n",
       "      <td>AB</td>\n",
       "      <td>4.550</td>\n",
       "      <td>233</td>\n",
       "    </tr>\n",
       "    <tr>\n",
       "      <td>8716</td>\n",
       "      <td>SH_20Aug12_193</td>\n",
       "      <td>SH</td>\n",
       "      <td>20-Aug-12</td>\n",
       "      <td>29-Jan-16</td>\n",
       "      <td>4</td>\n",
       "      <td>0.0518</td>\n",
       "      <td>0.0</td>\n",
       "      <td>95.0</td>\n",
       "      <td>2.5</td>\n",
       "      <td>H</td>\n",
       "      <td>AB</td>\n",
       "      <td>4.750</td>\n",
       "      <td>233</td>\n",
       "    </tr>\n",
       "    <tr>\n",
       "      <td>8717</td>\n",
       "      <td>SH_20Aug12_201</td>\n",
       "      <td>SH</td>\n",
       "      <td>20-Aug-12</td>\n",
       "      <td>29-Jan-16</td>\n",
       "      <td>4</td>\n",
       "      <td>0.0518</td>\n",
       "      <td>0.0</td>\n",
       "      <td>99.0</td>\n",
       "      <td>2.0</td>\n",
       "      <td>H</td>\n",
       "      <td>AB</td>\n",
       "      <td>4.950</td>\n",
       "      <td>233</td>\n",
       "    </tr>\n",
       "    <tr>\n",
       "      <td>8718</td>\n",
       "      <td>SH_20Aug12_116</td>\n",
       "      <td>SH</td>\n",
       "      <td>20-Aug-12</td>\n",
       "      <td>29-Jan-16</td>\n",
       "      <td>4</td>\n",
       "      <td>0.0518</td>\n",
       "      <td>0.0</td>\n",
       "      <td>100.0</td>\n",
       "      <td>2.0</td>\n",
       "      <td>H</td>\n",
       "      <td>AB</td>\n",
       "      <td>5.000</td>\n",
       "      <td>233</td>\n",
       "    </tr>\n",
       "    <tr>\n",
       "      <td>8719</td>\n",
       "      <td>SH_20Aug12_205</td>\n",
       "      <td>SH</td>\n",
       "      <td>20-Aug-12</td>\n",
       "      <td>29-Jan-16</td>\n",
       "      <td>4</td>\n",
       "      <td>0.0518</td>\n",
       "      <td>0.0</td>\n",
       "      <td>98.0</td>\n",
       "      <td>1.2</td>\n",
       "      <td>H</td>\n",
       "      <td>AB</td>\n",
       "      <td>7.840</td>\n",
       "      <td>233</td>\n",
       "    </tr>\n",
       "  </tbody>\n",
       "</table>\n",
       "<p>5041 rows × 13 columns</p>\n",
       "</div>"
      ],
      "text/plain": [
       "          Individual Site Date_Collected Date_Processed  Algal_clump  \\\n",
       "507     PW_28May12_1   PW      28-May-12      17-Jul-14            1   \n",
       "508     PW_28May12_2   PW      28-May-12      17-Jul-14            1   \n",
       "509     PW_28May12_3   PW      28-May-12      17-Jul-14            1   \n",
       "510     PW_28May12_4   PW      28-May-12      17-Jul-14            1   \n",
       "511     PW_28May12_5   PW      28-May-12      17-Jul-14            1   \n",
       "...              ...  ...            ...            ...          ...   \n",
       "8715   SH_20Aug12_50   SH      20-Aug-12      29-Jan-16            4   \n",
       "8716  SH_20Aug12_193   SH      20-Aug-12      29-Jan-16            4   \n",
       "8717  SH_20Aug12_201   SH      20-Aug-12      29-Jan-16            4   \n",
       "8718  SH_20Aug12_116   SH      20-Aug-12      29-Jan-16            4   \n",
       "8719  SH_20Aug12_205   SH      20-Aug-12      29-Jan-16            4   \n",
       "\n",
       "      Algae_wt_(g)  Eyespot  OMU_size  Magnification Scope Initials   Size  \\\n",
       "507         0.0375      1.0      21.0            4.0     H       NM  0.525   \n",
       "508         0.0375      1.0      26.0            4.0     H       NM  0.650   \n",
       "509         0.0375      1.0      20.0            4.0     H       NM  0.500   \n",
       "510         0.0375      1.0      25.0            4.0     H       NM  0.625   \n",
       "511         0.0375      1.0      20.0            4.0     H       NM  0.500   \n",
       "...            ...      ...       ...            ...   ...      ...    ...   \n",
       "8715        0.0518      0.0      91.0            2.5     H       AB  4.550   \n",
       "8716        0.0518      0.0      95.0            2.5     H       AB  4.750   \n",
       "8717        0.0518      0.0      99.0            2.0     H       AB  4.950   \n",
       "8718        0.0518      0.0     100.0            2.0     H       AB  5.000   \n",
       "8719        0.0518      0.0      98.0            1.2     H       AB  7.840   \n",
       "\n",
       "      Julian_Day  \n",
       "507          149  \n",
       "508          149  \n",
       "509          149  \n",
       "510          149  \n",
       "511          149  \n",
       "...          ...  \n",
       "8715         233  \n",
       "8716         233  \n",
       "8717         233  \n",
       "8718         233  \n",
       "8719         233  \n",
       "\n",
       "[5041 rows x 13 columns]"
      ]
     },
     "execution_count": 5,
     "metadata": {},
     "output_type": "execute_result"
    }
   ],
   "source": [
    "#replace missing values with zeros.\n",
    "spat_data.fillna(0)"
   ]
  },
  {
   "cell_type": "markdown",
   "metadata": {},
   "source": [
    "Certain parts of the MSC dataset are then classified into bins, which will be used in further analyses. These bins are added to the dataset as new columns."
   ]
  },
  {
   "cell_type": "code",
   "execution_count": 6,
   "metadata": {},
   "outputs": [],
   "source": [
    "#Binning settlement days into 3 categories: Early-Summer, Mid-Summer, Late-Summer\n",
    "bins = [120, 160, 200, 365] #setting the boundaries for each bin: 120-159 = Early-Summer; 160-199 = Mid-Summer; 200-365 = Late-Summer\n",
    "MSC['Summer_Summary'] = pd.cut(MSC.Julian_Day, bins, \n",
    "                         labels=['Early-Summer', 'Mid-Summer', \n",
    "                                 'Late-Summer']) #Creating new column \"Summer_Summary\" with the new classifications"
   ]
  },
  {
   "cell_type": "markdown",
   "metadata": {},
   "source": [
    "Re-do this for the spat_data"
   ]
  },
  {
   "cell_type": "code",
   "execution_count": 7,
   "metadata": {},
   "outputs": [],
   "source": [
    "#Binning settlement days into 3 categories: Early-Summer, Mid-Summer, Late-Summer\n",
    "bins = [120, 160, 200, 365] #setting the boundaries for each bin: 120-159 = Early-Summer; 160-199 = Mid-Summer; 200-365 = Late-Summer\n",
    "spat_data['Summer_Summary'] = pd.cut(spat_data.Julian_Day, bins, \n",
    "                         labels=['Early-Summer', 'Mid-Summer', \n",
    "                                 'Late-Summer']) #Creating new column \"Summer_Summary\" with the new classifications"
   ]
  },
  {
   "cell_type": "code",
   "execution_count": 8,
   "metadata": {},
   "outputs": [],
   "source": [
    "#Binning the spat sizes into 4 size classes\n",
    "bins1 = [0, 0.75 , 1.5, 3, 10] #setting the boundaries for each bin: 0-0.749 = Small; 0.75-1.49 = Medium; 1.5-2.99 = Large; 3-10 = Late Juvenile\n",
    "MSC['Size_Class'] = pd.cut(MSC.Size, bins1, \n",
    "                         labels=['Small', 'Medium', \n",
    "                                 'Large','Late Juvenile']) #Creating new column \"Size_Class\" with new size classifications"
   ]
  },
  {
   "cell_type": "code",
   "execution_count": 9,
   "metadata": {},
   "outputs": [],
   "source": [
    "#Classifying the \"age\" of the settled spat based on the presence or absence of an eyespot \n",
    "bins2 = [-1, 0.5, 1] #set boundaries for each bin: -1-0.49 = Recently settled spat (no eyespot); 0.5-1 = Settled over 5 days ago (eyespot)\n",
    "MSC['Spat_Age'] = pd.cut(MSC.Eyespot, bins2, \n",
    "                         labels=['Recently settled spat', 'Settled over 5 days ago']) #Creating new column \"Spat_Age\""
   ]
  },
  {
   "cell_type": "markdown",
   "metadata": {},
   "source": [
    "Both cleaned and prepared datasets are then saved as new files, with changed names so they are kept separate from the original file. Again, I have included the file path for my computer, this will need to be changed to the designated file path of your choosing. "
   ]
  },
  {
   "cell_type": "code",
   "execution_count": 10,
   "metadata": {},
   "outputs": [],
   "source": [
    "#Save your file (change the name if necessary).\n",
    "MSC.to_csv('/Users/azyck/Documents/Fall_2019_Classes/CSC593/MusselSpat_complete.csv')"
   ]
  },
  {
   "cell_type": "code",
   "execution_count": 11,
   "metadata": {},
   "outputs": [],
   "source": [
    "#Save your file (change the name if necessary).\n",
    "spat_data.to_csv('/Users/azyck/Documents/Fall_2019_Classes/CSC593/MusselSpat_clean.csv')"
   ]
  },
  {
   "cell_type": "markdown",
   "metadata": {},
   "source": [
    "### Analysis"
   ]
  },
  {
   "cell_type": "markdown",
   "metadata": {},
   "source": [
    "#### 1. How does the timing of mussel spat settlement vary across sites in Southwest England? "
   ]
  },
  {
   "cell_type": "markdown",
   "metadata": {},
   "source": [
    "While we know settlement is occurring continously over the duration of the summer, there are likely large settlement events. There can either be one large settlement event or mutliple, which can be site dependent. "
   ]
  },
  {
   "cell_type": "markdown",
   "metadata": {},
   "source": [
    "To determine how many spat recently settled on an algal clump, density needs to be calculated. This is done by taking each algal clump, per date, per site and counting the number of spat that are under 0.375 mm, as these are spat that settled within 4-5 days. That number is then divided by the weight of the algal clump. Calculating recently settled spat reveals periods of the summer where large settlement events occurred. This gives us an idea of optimal settlement times and also reveals additional settlement events at different points in the summer.  "
   ]
  },
  {
   "cell_type": "code",
   "execution_count": 12,
   "metadata": {},
   "outputs": [
    {
     "data": {
      "image/png": "[encoded data removed]",
      "text/plain": [
       "<Figure size 432x288 with 1 Axes>"
      ]
     },
     "metadata": {
      "needs_background": "light"
     },
     "output_type": "display_data"
    }
   ],
   "source": [
    "#calculating recent settlement for each date across each site\n",
    "for site in np.unique(spat_data.Site):\n",
    "    site_data = spat_data.loc[spat_data['Site'] == site] #locating the 5 sampling sites in the dataset\n",
    "    collection_dates = np.unique(site_data.Julian_Day) #returning unique dates for each site\n",
    "    date_densities = []\n",
    "    for date in collection_dates:\n",
    "        date_data = site_data.loc[site_data['Julian_Day'] == date] #within each date (within each site)\n",
    "        clump_densities = []\n",
    "        for clump in np.unique(date_data['Algal_clump']):\n",
    "            clump_data = date_data.loc[date_data['Algal_clump'] == clump] #Sorting by Algal # within each date\n",
    "            recent_settler_thresh = 0.375 #Creating a threshold for the max size that counts as a recently settled spat\n",
    "            recent_settlers = clump_data.loc[clump_data['Size'] <= recent_settler_thresh] #assigning that threshold to the sorted data\n",
    "            num_recent_settlers = len(recent_settlers) #assigning the number of recent settlers per algal clump to a new variable to calculate density\n",
    "            settlement_density = num_recent_settlers/np.unique(clump_data['Algae_wt_(g)'])[0] #Calculating density as the number of recent settlers / the weight (g) of the specific Algal clump\n",
    "            clump_densities.append(settlement_density)\n",
    "        avg_clump_density = np.mean(clump_densities) #calculating the average density of settlers on algal clumps \n",
    "        date_densities.append(avg_clump_density)\n",
    "    plt.plot(collection_dates, date_densities, label = site) #plotting mean sizes (y) over time (x)\n",
    "    plt.suptitle('Recently Settled Spat') #Setting a title\n",
    "    plt.xlabel('Julian Day') # x-axis label\n",
    "    plt.ylabel('# of spat/g of algae') # y-axis label\n",
    "    plt.legend() # adding a legend"
   ]
  },
  {
   "cell_type": "markdown",
   "metadata": {},
   "source": [
    "Across all 3 sites, peak settlement occurs at the end of May to early June. At site SH, there appears to be a second, smaller peak in settlement at the end of June. "
   ]
  },
  {
   "cell_type": "markdown",
   "metadata": {},
   "source": [
    "To compare the number of recent settlers between sites SH and PH and determine if there is a significant difference in recent settlement between the two sites, we calculated density as we did above, but for a single date shared by the two sites. In this case, we chose date 140 for site SH and date 138 for PH as they were the closest sampling dates within the peak settlement for both sites. The `spat_data` set is separated into one dataset of just site SH and just date 140; and a second dataset of just site PH and just date 138. The average density for each algal clump (1-5) is calculated for both datasets. "
   ]
  },
  {
   "cell_type": "code",
   "execution_count": 13,
   "metadata": {},
   "outputs": [],
   "source": [
    "#Filtering the dataframe based on Site SH\n",
    "is_SH =  spat_data['Site']==\"SH\"\n",
    "spat_SH = spat_data[is_SH] #Filtering dataset using boolean variable "
   ]
  },
  {
   "cell_type": "code",
   "execution_count": 14,
   "metadata": {},
   "outputs": [],
   "source": [
    "#Filtering the SH dataset to just select for date 140 \n",
    "jd_140 =  spat_SH['Julian_Day']==140\n",
    "SH_140 = spat_SH[jd_140]"
   ]
  },
  {
   "cell_type": "code",
   "execution_count": 15,
   "metadata": {},
   "outputs": [],
   "source": [
    "#Filtering the SH dataset for date 140 by each algal clump \n",
    "clump1 = SH_140['Algal_clump']==1\n",
    "SH_algae1 = SH_140[clump1]\n",
    "\n",
    "clump2 = SH_140['Algal_clump']==2\n",
    "SH_algae2 = SH_140[clump2]\n",
    "\n",
    "clump3 = SH_140['Algal_clump']==3\n",
    "SH_algae3 = SH_140[clump3]\n",
    "\n",
    "clump4 = SH_140['Algal_clump']==4\n",
    "SH_algae4 = SH_140[clump4]\n",
    "\n",
    "clump5 = SH_140['Algal_clump']==5\n",
    "SH_algae5 = SH_140[clump5]"
   ]
  },
  {
   "cell_type": "code",
   "execution_count": 16,
   "metadata": {},
   "outputs": [],
   "source": [
    "#Calculating the density of algal clump #1 at Site SH on Day 140 \n",
    "for clump in np.unique(SH_algae1.Algal_clump): #Finding the unique algal clumps \n",
    "    clump_data = SH_algae1.loc[SH_algae1['Algal_clump'] == clump]\n",
    "    recent_settler_thresh = 0.375 #Creating a threshold for the max size that counts as a recently settled spat\n",
    "    recent_settlers = clump_data.loc[clump_data['Size'] <= recent_settler_thresh] #assigning that threshold to the sorted data\n",
    "    num_recent_settlers = len(recent_settlers) #assigning the number of recent settlers per algal clump to a new variable to calculate density\n",
    "    settlement_density_SH1 = num_recent_settlers/(clump_data['Algae_wt_(g)']) #Calculating density as the number of recent settlers / the weight (g) of the specific Algal clump"
   ]
  },
  {
   "cell_type": "code",
   "execution_count": 17,
   "metadata": {},
   "outputs": [],
   "source": [
    "#Calculating the density of algal clump #2 at Site SH on Day 140 \n",
    "for clump in np.unique(SH_algae2.Algal_clump): #Finding the unique algal clumps \n",
    "    clump_data = SH_algae2.loc[SH_algae2['Algal_clump'] == clump]\n",
    "    recent_settler_thresh = 0.375 #Creating a threshold for the max size that counts as a recently settled spat\n",
    "    recent_settlers = clump_data.loc[clump_data['Size'] <= recent_settler_thresh] #assigning that threshold to the sorted data\n",
    "    num_recent_settlers = len(recent_settlers) #assigning the number of recent settlers per algal clump to a new variable to calculate density\n",
    "    settlement_density_SH2 = num_recent_settlers/(clump_data['Algae_wt_(g)']) #Calculating density as the number of recent settlers / the weight (g) of the specific Algal clump"
   ]
  },
  {
   "cell_type": "code",
   "execution_count": 18,
   "metadata": {},
   "outputs": [],
   "source": [
    "#Calculating the density of algal clump #3 at Site SH on Day 140 \n",
    "for clump in np.unique(SH_algae3.Algal_clump): #Finding the unique algal clumps \n",
    "    clump_data = SH_algae3.loc[SH_algae3['Algal_clump'] == clump]\n",
    "    recent_settler_thresh = 0.375 #Creating a threshold for the max size that counts as a recently settled spat\n",
    "    recent_settlers = clump_data.loc[clump_data['Size'] <= recent_settler_thresh] #assigning that threshold to the sorted data\n",
    "    num_recent_settlers = len(recent_settlers) #assigning the number of recent settlers per algal clump to a new variable to calculate density\n",
    "    settlement_density_SH3 = num_recent_settlers/(clump_data['Algae_wt_(g)']) #Calculating density as the number of recent settlers / the weight (g) of the specific Algal clump"
   ]
  },
  {
   "cell_type": "code",
   "execution_count": 19,
   "metadata": {},
   "outputs": [],
   "source": [
    "#Calculating the density of algal clump #4 at Site SH on Day 140 \n",
    "for clump in np.unique(SH_algae4.Algal_clump): #Finding the unique algal clumps \n",
    "    clump_data = SH_algae4.loc[SH_algae4['Algal_clump'] == clump]\n",
    "    recent_settler_thresh = 0.375 #Creating a threshold for the max size that counts as a recently settled spat\n",
    "    recent_settlers = clump_data.loc[clump_data['Size'] <= recent_settler_thresh] #assigning that threshold to the sorted data\n",
    "    num_recent_settlers = len(recent_settlers) #assigning the number of recent settlers per algal clump to a new variable to calculate density\n",
    "    settlement_density_SH4 = num_recent_settlers/(clump_data['Algae_wt_(g)']) #Calculating density as the number of recent settlers / the weight (g) of the specific Algal clump"
   ]
  },
  {
   "cell_type": "code",
   "execution_count": 20,
   "metadata": {},
   "outputs": [],
   "source": [
    "#Calculating the density of algal clump #5 at Site SH on Day 140 \n",
    "for clump in np.unique(SH_algae5.Algal_clump): #Finding the unique algal clumps \n",
    "    clump_data = SH_algae5.loc[SH_algae5['Algal_clump'] == clump]\n",
    "    recent_settler_thresh = 0.375 #Creating a threshold for the max size that counts as a recently settled spat\n",
    "    recent_settlers = clump_data.loc[clump_data['Size'] <= recent_settler_thresh] #assigning that threshold to the sorted data\n",
    "    num_recent_settlers = len(recent_settlers) #assigning the number of recent settlers per algal clump to a new variable to calculate density\n",
    "    settlement_density_SH5 = num_recent_settlers/(clump_data['Algae_wt_(g)']) #Calculating density as the number of recent settlers / the weight (g) of the specific Algal clump"
   ]
  },
  {
   "cell_type": "code",
   "execution_count": 21,
   "metadata": {},
   "outputs": [],
   "source": [
    "#calculating mean value for clumps 1 - 5\n",
    "avg_density_SH1 = np.mean(settlement_density_SH1)\n",
    "\n",
    "avg_density_SH2 = np.mean(settlement_density_SH2)\n",
    "\n",
    "avg_density_SH3 = np.mean(settlement_density_SH3)\n",
    "\n",
    "avg_density_SH4 = np.mean(settlement_density_SH4)\n",
    "\n",
    "avg_density_SH5 = np.mean(settlement_density_SH5)"
   ]
  },
  {
   "cell_type": "code",
   "execution_count": 22,
   "metadata": {},
   "outputs": [
    {
     "data": {
      "text/plain": [
       "(3012.0481927710844,\n",
       " 5000.0,\n",
       " 4081.6326530612264,\n",
       " 1707.317073170732,\n",
       " 7258.064516129031)"
      ]
     },
     "execution_count": 22,
     "metadata": {},
     "output_type": "execute_result"
    }
   ],
   "source": [
    "#Creating an array of average density values for all 5 clumps\n",
    "settlement_density_SH = (avg_density_SH1, avg_density_SH2, avg_density_SH3, avg_density_SH4, avg_density_SH5)\n",
    "\n",
    "settlement_density_SH"
   ]
  },
  {
   "cell_type": "markdown",
   "metadata": {},
   "source": [
    "Next, we calculated the average density of recently settled spat on algal clumps 1-5 for day 138 at site PH. Day 138 is the closest sampling date to 140. "
   ]
  },
  {
   "cell_type": "code",
   "execution_count": 23,
   "metadata": {},
   "outputs": [],
   "source": [
    "#Filtering the dataframe based on Site PH\n",
    "is_PH =  spat_data['Site']==\"PH\"\n",
    "spat_PH = spat_data[is_PH] #Filtering dataset using boolean variable "
   ]
  },
  {
   "cell_type": "code",
   "execution_count": 24,
   "metadata": {},
   "outputs": [],
   "source": [
    "#Filtering the PH dataset to just select for date 138 \n",
    "jd_138 =  spat_PH['Julian_Day']==138\n",
    "PH_138 = spat_PH[jd_138]"
   ]
  },
  {
   "cell_type": "code",
   "execution_count": 25,
   "metadata": {},
   "outputs": [],
   "source": [
    "#Filtering the PH dataset for date 138 by each algal clump \n",
    "clump1 = PH_138['Algal_clump']==1\n",
    "PH_algae1 = PH_138[clump1]\n",
    "\n",
    "clump2 = PH_138['Algal_clump']==2\n",
    "PH_algae2 = PH_138[clump2]\n",
    "\n",
    "clump3 = PH_138['Algal_clump']==3\n",
    "PH_algae3 = PH_138[clump3]\n",
    "\n",
    "clump4 = PH_138['Algal_clump']==4\n",
    "PH_algae4 = PH_138[clump4]\n",
    "\n",
    "clump5 = PH_138['Algal_clump']==5\n",
    "PH_algae5 = PH_138[clump5]"
   ]
  },
  {
   "cell_type": "code",
   "execution_count": 26,
   "metadata": {},
   "outputs": [],
   "source": [
    "#Calculating the density of algal clump #1 at Site PH on Day 138\n",
    "for clump in np.unique(PH_algae1.Algal_clump): #Finding the unique algal clumps \n",
    "    clump_data = PH_algae1.loc[PH_algae1['Algal_clump'] == clump]\n",
    "    recent_settler_thresh = 0.375 #Creating a threshold for the max size that counts as a recently settled spat\n",
    "    recent_settlers = clump_data.loc[clump_data['Size'] <= recent_settler_thresh] #assigning that threshold to the sorted data\n",
    "    num_recent_settlers = len(recent_settlers) #assigning the number of recent settlers per algal clump to a new variable to calculate density\n",
    "    settlement_density_PH1 = num_recent_settlers/(clump_data['Algae_wt_(g)']) #Calculating density as the number of recent settlers / the weight (g) of the specific Algal clump"
   ]
  },
  {
   "cell_type": "code",
   "execution_count": 27,
   "metadata": {},
   "outputs": [],
   "source": [
    "#Calculating the density of algal clump #2 at Site PH on Day 138\n",
    "for clump in np.unique(PH_algae2.Algal_clump): #Finding the unique algal clumps \n",
    "    clump_data = PH_algae2.loc[PH_algae2['Algal_clump'] == clump]\n",
    "    recent_settler_thresh = 0.375 #Creating a threshold for the max size that counts as a recently settled spat\n",
    "    recent_settlers = clump_data.loc[clump_data['Size'] <= recent_settler_thresh] #assigning that threshold to the sorted data\n",
    "    num_recent_settlers = len(recent_settlers) #assigning the number of recent settlers per algal clump to a new variable to calculate density\n",
    "    settlement_density_PH2 = num_recent_settlers/(clump_data['Algae_wt_(g)']) #Calculating density as the number of recent settlers / the weight (g) of the specific Algal clump"
   ]
  },
  {
   "cell_type": "code",
   "execution_count": 28,
   "metadata": {},
   "outputs": [],
   "source": [
    "#Calculating the density of algal clump #3 at Site PH on Day 138\n",
    "for clump in np.unique(PH_algae3.Algal_clump): #Finding the unique algal clumps \n",
    "    clump_data = PH_algae3.loc[PH_algae3['Algal_clump'] == clump]\n",
    "    recent_settler_thresh = 0.375 #Creating a threshold for the max size that counts as a recently settled spat\n",
    "    recent_settlers = clump_data.loc[clump_data['Size'] <= recent_settler_thresh] #assigning that threshold to the sorted data\n",
    "    num_recent_settlers = len(recent_settlers) #assigning the number of recent settlers per algal clump to a new variable to calculate density\n",
    "    settlement_density_PH3 = num_recent_settlers/(clump_data['Algae_wt_(g)']) #Calculating density as the number of recent settlers / the weight (g) of the specific Algal clump"
   ]
  },
  {
   "cell_type": "code",
   "execution_count": 29,
   "metadata": {},
   "outputs": [],
   "source": [
    "#Calculating the density of algal clump #4 at Site PH on Day 138\n",
    "for clump in np.unique(PH_algae4.Algal_clump): #Finding the unique algal clumps \n",
    "    clump_data = PH_algae4.loc[PH_algae4['Algal_clump'] == clump]\n",
    "    recent_settler_thresh = 0.375 #Creating a threshold for the max size that counts as a recently settled spat\n",
    "    recent_settlers = clump_data.loc[clump_data['Size'] <= recent_settler_thresh] #assigning that threshold to the sorted data\n",
    "    num_recent_settlers = len(recent_settlers) #assigning the number of recent settlers per algal clump to a new variable to calculate density\n",
    "    settlement_density_PH4 = num_recent_settlers/(clump_data['Algae_wt_(g)']) #Calculating density as the number of recent settlers / the weight (g) of the specific Algal clump"
   ]
  },
  {
   "cell_type": "code",
   "execution_count": 30,
   "metadata": {},
   "outputs": [],
   "source": [
    "#Calculating the density of algal clump #5 at Site PH on Day 138\n",
    "for clump in np.unique(PH_algae5.Algal_clump): #Finding the unique algal clumps \n",
    "    clump_data = PH_algae5.loc[PH_algae5['Algal_clump'] == clump]\n",
    "    recent_settler_thresh = 0.375 #Creating a threshold for the max size that counts as a recently settled spat\n",
    "    recent_settlers = clump_data.loc[clump_data['Size'] <= recent_settler_thresh] #assigning that threshold to the sorted data\n",
    "    num_recent_settlers = len(recent_settlers) #assigning the number of recent settlers per algal clump to a new variable to calculate density\n",
    "    settlement_density_PH5 = num_recent_settlers/(clump_data['Algae_wt_(g)']) #Calculating density as the number of recent settlers / the weight (g) of the specific Algal clump"
   ]
  },
  {
   "cell_type": "code",
   "execution_count": 31,
   "metadata": {},
   "outputs": [],
   "source": [
    "#calculating mean value for clumps 1 - 5\n",
    "avg_density_PH1 = np.mean(settlement_density_PH1)\n",
    "\n",
    "avg_density_PH2 = np.mean(settlement_density_PH2)\n",
    "\n",
    "avg_density_PH3 = np.mean(settlement_density_PH3)\n",
    "\n",
    "avg_density_PH4 = np.mean(settlement_density_PH4)\n",
    "\n",
    "avg_density_PH5 = np.mean(settlement_density_PH5)"
   ]
  },
  {
   "cell_type": "code",
   "execution_count": 32,
   "metadata": {},
   "outputs": [
    {
     "data": {
      "text/plain": [
       "(0.0, 410.15625, 880.5031446540885, 780.4878048780486, 430.10752688172045)"
      ]
     },
     "execution_count": 32,
     "metadata": {},
     "output_type": "execute_result"
    }
   ],
   "source": [
    "#Creating an array of average density values for all 5 clumps\n",
    "settlement_density_PH = (avg_density_PH1, avg_density_PH2, avg_density_PH3, avg_density_PH4, avg_density_PH5)\n",
    "\n",
    "settlement_density_PH"
   ]
  },
  {
   "cell_type": "markdown",
   "metadata": {},
   "source": [
    "We then ran a t-test to test if we reject or fail to reject our null hypothesis:\n",
    "\n",
    "Null: There is no significant difference in the density of early spat settlers during peak settlement periods between sites SH and PH. \n",
    "\n",
    "Steps to run the t-test come from: [SciPy.org](https://docs.scipy.org/doc/scipy-0.15.1/reference/generated/scipy.stats.ttest_ind.html)."
   ]
  },
  {
   "cell_type": "code",
   "execution_count": 33,
   "metadata": {},
   "outputs": [
    {
     "data": {
      "text/plain": [
       "Ttest_indResult(statistic=3.8997640038819266, pvalue=0.0045461659021324334)"
      ]
     },
     "execution_count": 33,
     "metadata": {},
     "output_type": "execute_result"
    }
   ],
   "source": [
    "stats.ttest_ind(settlement_density_SH, settlement_density_PH)"
   ]
  },
  {
   "cell_type": "markdown",
   "metadata": {},
   "source": [
    "There is a significant difference in the density of early spat settlers between sites SH and PH. SH has significantly higher settlement than PH. "
   ]
  },
  {
   "cell_type": "markdown",
   "metadata": {},
   "source": [
    "#### 2. How does the size of settled mussel spat change over the duration of the summer across sites?"
   ]
  },
  {
   "cell_type": "markdown",
   "metadata": {},
   "source": [
    "As the summer progresses, both the spat settled on the algae as well as the larvae in the water column are growing in size because the number of phytoplankton (food) in the water is increasing. The rate of growth is dependent on the concentration of phytoplankton in the water. Some sites might exhibit slower growth rates if fewer phytoplankton are available or vice versa.  "
   ]
  },
  {
   "cell_type": "markdown",
   "metadata": {},
   "source": [
    "To answer this question, the mean size at each date for each location needs to be calculated. This is completed using the `np.mean` function. Before calculating the mean size, the data has to first be filtered by site, because we want the mean size per date to be site specific. Then we filter the site specific data by Julian Day, to calculate the mean size value for each Julian Day. This calculation is first completed for all 5 sites in the dataset. "
   ]
  },
  {
   "cell_type": "code",
   "execution_count": 34,
   "metadata": {},
   "outputs": [
    {
     "data": {
      "image/png": "[encoded data removed]",
      "text/plain": [
       "<Figure size 432x288 with 1 Axes>"
      ]
     },
     "metadata": {
      "needs_background": "light"
     },
     "output_type": "display_data"
    }
   ],
   "source": [
    "#calculating the average size (mm) for each date across each site\n",
    "for site in np.unique(MSC.Site):\n",
    "    site_data = MSC.loc[MSC['Site'] == site] #locating the 5 sampling sites in the dataset\n",
    "    collection_dates = np.unique(site_data.Julian_Day) #returning unique dates for each site \n",
    "    site_sizes = []\n",
    "    for date in collection_dates:\n",
    "        date_data = site_data.loc[site_data['Julian_Day'] == date]\n",
    "        avg_date_size = np.mean(date_data.Size) #calculating the mean size for each date across all sites\n",
    "        site_sizes.append(avg_date_size)\n",
    "    plt.plot(collection_dates, site_sizes, label = site) #plotting mean sizes (y) over time (x)\n",
    "    plt.suptitle('Change in Mussel Spat Size over Time') #Setting a title\n",
    "    plt.xlabel('Julian Day') # x-axis label\n",
    "    plt.ylabel('Average Mussel Spat Size (mm)') # y-axis label\n",
    "    plt.legend() # adding a legend "
   ]
  },
  {
   "cell_type": "markdown",
   "metadata": {},
   "source": [
    "All 5 sites show an increase in average mussel spat size as the summer progresses. Sites DD and LS have several large peaks and the beginning (LS) and end (DD) of the summer. Mussel spat from SH, PH, and PW have a fairly steady  growth rate throughout the summer. \n",
    "\n",
    "Next, growth throughout the summer was observed for just SH, PH, and PW as these were the 3 sites included in the _Recently Settled Spat_ analysis. This was also a better was to look at the trend in growth, as these 3 sites did not have outlier peaks like DD and LS did. Steps for completing this were the same as above, just on the 'spat_data' file.  "
   ]
  },
  {
   "cell_type": "code",
   "execution_count": 35,
   "metadata": {},
   "outputs": [
    {
     "data": {
      "image/png": "[encoded data removed]",
      "text/plain": [
       "<Figure size 432x288 with 1 Axes>"
      ]
     },
     "metadata": {
      "needs_background": "light"
     },
     "output_type": "display_data"
    }
   ],
   "source": [
    "#calculating the average size (mm) for each date across each site\n",
    "for site in np.unique(spat_data.Site):\n",
    "    site_data = spat_data.loc[spat_data['Site'] == site] #locating the 5 sampling sites in the dataset\n",
    "    collection_dates = np.unique(site_data.Julian_Day) #returning unique dates for each site \n",
    "    site_sizes = []\n",
    "    for date in collection_dates:\n",
    "        date_data = site_data.loc[site_data['Julian_Day'] == date]\n",
    "        avg_date_size = np.mean(date_data.Size) #calculating the mean size for each date across all sites\n",
    "        site_sizes.append(avg_date_size)\n",
    "    plt.plot(collection_dates, site_sizes, label = site) #plotting mean sizes (y) over time (x)\n",
    "    plt.suptitle('Change in Mussel Spat Size over Time') #Setting a title\n",
    "    plt.xlabel('Julian Day') # x-axis label\n",
    "    plt.ylabel('Average Mussel Spat Size (mm)') # y-axis label\n",
    "    plt.legend() # adding a legend "
   ]
  },
  {
   "cell_type": "markdown",
   "metadata": {},
   "source": [
    "There is a very clear increase in spat size throughout the summer across these 3 sites.\n",
    "\n",
    "As site SH has sampled dates throughout the full duration of the summer, we looked at the relationship between average spat size and Julian day a little bit closer. This involved singling out the SH site and calculating the average size for each date. Ordinary Least Squares Regression was run to observe the relationship between size and date (Julian Day). "
   ]
  },
  {
   "cell_type": "code",
   "execution_count": 36,
   "metadata": {},
   "outputs": [
    {
     "name": "stdout",
     "output_type": "stream",
     "text": [
      "0    False\n",
      "1    False\n",
      "2    False\n",
      "3    False\n",
      "4    False\n",
      "Name: Site, dtype: bool\n"
     ]
    }
   ],
   "source": [
    "#Filtering the dataframe based on Site SH\n",
    "is_SH =  MSC['Site']==\"SH\"\n",
    "print(is_SH.head()) #looking at results as a boolean variable"
   ]
  },
  {
   "cell_type": "code",
   "execution_count": 37,
   "metadata": {},
   "outputs": [
    {
     "name": "stdout",
     "output_type": "stream",
     "text": [
      "(5553, 16)\n"
     ]
    }
   ],
   "source": [
    "MSC_SH = MSC[is_SH] #Filtering dataset using boolean variable \n",
    "print(MSC_SH.shape) #checking the size of the data frame "
   ]
  },
  {
   "cell_type": "code",
   "execution_count": 38,
   "metadata": {},
   "outputs": [
    {
     "name": "stdout",
     "output_type": "stream",
     "text": [
      "         Individual Site Date_Collected Date_Processed  Algal_clump  \\\n",
      "3167  SH_14May12_23   SH      14-May-12       6-Mar-14            1   \n",
      "3168   SH_14May12_5   SH      14-May-12       6-Mar-14            1   \n",
      "3169   SH_14May12_8   SH      14-May-12       6-Mar-14            1   \n",
      "3170  SH_14May12_11   SH      14-May-12       6-Mar-14            1   \n",
      "3171  SH_14May12_32   SH      14-May-12       6-Mar-14            1   \n",
      "\n",
      "      Algae_wt_(g)  Eyespot  OMU_size  Magnification Scope Initials   Size  \\\n",
      "3167        0.0313      1.0      11.0            4.0     H       GP  0.275   \n",
      "3168        0.0313      1.0      12.0            4.0     H       GP  0.300   \n",
      "3169        0.0313      1.0      12.0            4.0     H       GP  0.300   \n",
      "3170        0.0313      1.0      12.0            4.0     H       GP  0.300   \n",
      "3171        0.0313      1.0      12.0            4.0     H       GP  0.300   \n",
      "\n",
      "      Julian_Day Summer_Summary Size_Class                 Spat_Age  \n",
      "3167         135   Early-Summer      Small  Settled over 5 days ago  \n",
      "3168         135   Early-Summer      Small  Settled over 5 days ago  \n",
      "3169         135   Early-Summer      Small  Settled over 5 days ago  \n",
      "3170         135   Early-Summer      Small  Settled over 5 days ago  \n",
      "3171         135   Early-Summer      Small  Settled over 5 days ago  \n"
     ]
    }
   ],
   "source": [
    "print(MSC_SH.head())"
   ]
  },
  {
   "cell_type": "code",
   "execution_count": 39,
   "metadata": {},
   "outputs": [
    {
     "name": "stderr",
     "output_type": "stream",
     "text": [
      "No handles with labels found to put in legend.\n",
      "No handles with labels found to put in legend.\n",
      "No handles with labels found to put in legend.\n",
      "No handles with labels found to put in legend.\n",
      "No handles with labels found to put in legend.\n",
      "No handles with labels found to put in legend.\n",
      "No handles with labels found to put in legend.\n",
      "No handles with labels found to put in legend.\n",
      "No handles with labels found to put in legend.\n",
      "No handles with labels found to put in legend.\n",
      "No handles with labels found to put in legend.\n",
      "No handles with labels found to put in legend.\n",
      "No handles with labels found to put in legend.\n",
      "No handles with labels found to put in legend.\n",
      "No handles with labels found to put in legend.\n",
      "No handles with labels found to put in legend.\n"
     ]
    },
    {
     "data": {
      "image/png": "[encoded data removed]",
      "text/plain": [
       "<Figure size 432x288 with 1 Axes>"
      ]
     },
     "metadata": {
      "needs_background": "light"
     },
     "output_type": "display_data"
    }
   ],
   "source": [
    "#calculating the average size (mm) for each date at site SH\n",
    "for date in np.unique(MSC_SH.Julian_Day): #Finding the unique date values in the Julian Day column \n",
    "    date_data = MSC_SH.loc[MSC_SH['Julian_Day'] == date]\n",
    "    avg_date_size = np.mean(date_data.Size) #calculating the mean size for each date \n",
    "    plt.plot(collection_dates, site_sizes) #plotting mean sizes (y) over time (x)\n",
    "    plt.suptitle('Change in Mussel Spat Size over Time at Site SH') #Setting a title\n",
    "    plt.xlabel('Julian Day') # x-axis label\n",
    "    plt.ylabel('Average Mussel Spat Size (mm) at Site SH') # y-axis label\n",
    "    plt.legend() # adding a legend"
   ]
  },
  {
   "cell_type": "code",
   "execution_count": 40,
   "metadata": {},
   "outputs": [
    {
     "data": {
      "image/png": "[encoded data removed]",
      "text/plain": [
       "<Figure size 432x432 with 1 Axes>"
      ]
     },
     "metadata": {
      "needs_background": "light"
     },
     "output_type": "display_data"
    }
   ],
   "source": [
    "plt.figure(figsize=(6,6))\n",
    "sns.scatterplot('Julian_Day', 'Size', data=MSC_SH)\n",
    "plt.show()"
   ]
  },
  {
   "cell_type": "code",
   "execution_count": 41,
   "metadata": {},
   "outputs": [
    {
     "name": "stderr",
     "output_type": "stream",
     "text": [
      "/Users/azyck/opt/anaconda3/lib/python3.7/site-packages/numpy/core/fromnumeric.py:2495: FutureWarning: Method .ptp is deprecated and will be removed in a future version. Use numpy.ptp instead.\n",
      "  return ptp(axis=axis, out=out, **kwargs)\n"
     ]
    },
    {
     "data": {
      "text/html": [
       "<table class=\"simpletable\">\n",
       "<caption>OLS Regression Results</caption>\n",
       "<tr>\n",
       "  <th>Dep. Variable:</th>          <td>Size</td>       <th>  R-squared:         </th> <td>   0.317</td>\n",
       "</tr>\n",
       "<tr>\n",
       "  <th>Model:</th>                   <td>OLS</td>       <th>  Adj. R-squared:    </th> <td>   0.317</td>\n",
       "</tr>\n",
       "<tr>\n",
       "  <th>Method:</th>             <td>Least Squares</td>  <th>  F-statistic:       </th> <td>   2580.</td>\n",
       "</tr>\n",
       "<tr>\n",
       "  <th>Date:</th>             <td>Fri, 20 Dec 2019</td> <th>  Prob (F-statistic):</th>  <td>  0.00</td> \n",
       "</tr>\n",
       "<tr>\n",
       "  <th>Time:</th>                 <td>15:52:50</td>     <th>  Log-Likelihood:    </th> <td> -3950.9</td>\n",
       "</tr>\n",
       "<tr>\n",
       "  <th>No. Observations:</th>      <td>  5553</td>      <th>  AIC:               </th> <td>   7906.</td>\n",
       "</tr>\n",
       "<tr>\n",
       "  <th>Df Residuals:</th>          <td>  5551</td>      <th>  BIC:               </th> <td>   7919.</td>\n",
       "</tr>\n",
       "<tr>\n",
       "  <th>Df Model:</th>              <td>     1</td>      <th>                     </th>     <td> </td>   \n",
       "</tr>\n",
       "<tr>\n",
       "  <th>Covariance Type:</th>      <td>nonrobust</td>    <th>                     </th>     <td> </td>   \n",
       "</tr>\n",
       "</table>\n",
       "<table class=\"simpletable\">\n",
       "<tr>\n",
       "       <td></td>         <th>coef</th>     <th>std err</th>      <th>t</th>      <th>P>|t|</th>  <th>[0.025</th>    <th>0.975]</th>  \n",
       "</tr>\n",
       "<tr>\n",
       "  <th>const</th>      <td>   -2.0665</td> <td>    0.059</td> <td>  -35.073</td> <td> 0.000</td> <td>   -2.182</td> <td>   -1.951</td>\n",
       "</tr>\n",
       "<tr>\n",
       "  <th>Julian_Day</th> <td>    0.0164</td> <td>    0.000</td> <td>   50.789</td> <td> 0.000</td> <td>    0.016</td> <td>    0.017</td>\n",
       "</tr>\n",
       "</table>\n",
       "<table class=\"simpletable\">\n",
       "<tr>\n",
       "  <th>Omnibus:</th>       <td>3722.884</td> <th>  Durbin-Watson:     </th>  <td>   0.725</td> \n",
       "</tr>\n",
       "<tr>\n",
       "  <th>Prob(Omnibus):</th>  <td> 0.000</td>  <th>  Jarque-Bera (JB):  </th> <td>142435.054</td>\n",
       "</tr>\n",
       "<tr>\n",
       "  <th>Skew:</th>           <td> 2.684</td>  <th>  Prob(JB):          </th>  <td>    0.00</td> \n",
       "</tr>\n",
       "<tr>\n",
       "  <th>Kurtosis:</th>       <td>27.224</td>  <th>  Cond. No.          </th>  <td>1.63e+03</td> \n",
       "</tr>\n",
       "</table><br/><br/>Warnings:<br/>[1] Standard Errors assume that the covariance matrix of the errors is correctly specified.<br/>[2] The condition number is large, 1.63e+03. This might indicate that there are<br/>strong multicollinearity or other numerical problems."
      ],
      "text/plain": [
       "<class 'statsmodels.iolib.summary.Summary'>\n",
       "\"\"\"\n",
       "                            OLS Regression Results                            \n",
       "==============================================================================\n",
       "Dep. Variable:                   Size   R-squared:                       0.317\n",
       "Model:                            OLS   Adj. R-squared:                  0.317\n",
       "Method:                 Least Squares   F-statistic:                     2580.\n",
       "Date:                Fri, 20 Dec 2019   Prob (F-statistic):               0.00\n",
       "Time:                        15:52:50   Log-Likelihood:                -3950.9\n",
       "No. Observations:                5553   AIC:                             7906.\n",
       "Df Residuals:                    5551   BIC:                             7919.\n",
       "Df Model:                           1                                         \n",
       "Covariance Type:            nonrobust                                         \n",
       "==============================================================================\n",
       "                 coef    std err          t      P>|t|      [0.025      0.975]\n",
       "------------------------------------------------------------------------------\n",
       "const         -2.0665      0.059    -35.073      0.000      -2.182      -1.951\n",
       "Julian_Day     0.0164      0.000     50.789      0.000       0.016       0.017\n",
       "==============================================================================\n",
       "Omnibus:                     3722.884   Durbin-Watson:                   0.725\n",
       "Prob(Omnibus):                  0.000   Jarque-Bera (JB):           142435.054\n",
       "Skew:                           2.684   Prob(JB):                         0.00\n",
       "Kurtosis:                      27.224   Cond. No.                     1.63e+03\n",
       "==============================================================================\n",
       "\n",
       "Warnings:\n",
       "[1] Standard Errors assume that the covariance matrix of the errors is correctly specified.\n",
       "[2] The condition number is large, 1.63e+03. This might indicate that there are\n",
       "strong multicollinearity or other numerical problems.\n",
       "\"\"\""
      ]
     },
     "execution_count": 41,
     "metadata": {},
     "output_type": "execute_result"
    }
   ],
   "source": [
    "#add_constant takes the slice of the dataframe and adds an extra column in front of it of constants - becomes the intercept\n",
    "x = sm.add_constant(MSC_SH[['Julian_Day']])\n",
    "y = MSC_SH.Size\n",
    "\n",
    "#Linear Model \n",
    "lm = sm.OLS(y, x).fit()\n",
    "\n",
    "# Residual Sum of Squares\n",
    "RSS = sum(lm.resid ** 2)\n",
    "\n",
    "# Total Sum of Squares\n",
    "TSS = sum((MSC_SH.Size - np.mean(MSC_SH.Size)) ** 2)\n",
    "R2 = 1 - (RSS/TSS)\n",
    "\n",
    "#print('RSS: {}; TSS: {}; R-squared: {}'.format(RSS, TSS, R2))\n",
    "\n",
    "lm.summary()"
   ]
  },
  {
   "cell_type": "markdown",
   "metadata": {},
   "source": [
    "**Size(Julian Day) = -2.0665 + 0.0164Julian_Day** "
   ]
  },
  {
   "cell_type": "markdown",
   "metadata": {},
   "source": [
    "#### 3. At what size do spat lose their eyespot?\n",
    "\n",
    "At a certain stage in development, larval mussels will develop an eyespot. This typically occurs in the later larval stage before developing into a juvenile spat. Once the spat have settled on the algae onshore, they will lose this eyespot after several days. \n",
    "\n",
    "To determine the size at which spat lose that eyespot, we creating a boxplot showing the distribution of size of spat with (represented by 1) and without (represented by 0) an eyespot. "
   ]
  },
  {
   "cell_type": "code",
   "execution_count": 42,
   "metadata": {},
   "outputs": [
    {
     "data": {
      "image/png": "[encoded data removed]",
      "text/plain": [
       "<Figure size 432x432 with 1 Axes>"
      ]
     },
     "metadata": {
      "needs_background": "light"
     },
     "output_type": "display_data"
    }
   ],
   "source": [
    "plt.figure(figsize=(6,6))\n",
    "sns.boxplot('Eyespot', 'Size', data=MSC)\n",
    "plt.show()"
   ]
  },
  {
   "cell_type": "markdown",
   "metadata": {},
   "source": [
    "To calculate the average size of spat with and without and eyespot, we first created two separate datasets. One with just spat without an eyespot and one with just spat with an eyespot."
   ]
  },
  {
   "cell_type": "code",
   "execution_count": 43,
   "metadata": {},
   "outputs": [
    {
     "name": "stdout",
     "output_type": "stream",
     "text": [
      "0    False\n",
      "1    False\n",
      "2    False\n",
      "3    False\n",
      "4    False\n",
      "Name: Eyespot, dtype: bool\n"
     ]
    }
   ],
   "source": [
    "#Filtering the dataframe based on spat without an eyespot\n",
    "no_eyespot =  MSC['Eyespot']==0\n",
    "print(no_eyespot.head()) #looking at results as a boolean variable"
   ]
  },
  {
   "cell_type": "code",
   "execution_count": 44,
   "metadata": {},
   "outputs": [
    {
     "name": "stdout",
     "output_type": "stream",
     "text": [
      "(5373, 16)\n"
     ]
    }
   ],
   "source": [
    "MSC_no_eyespot = MSC[no_eyespot] #Filtering dataset using boolean variable \n",
    "print(MSC_no_eyespot.shape) #checking the size of the data frame "
   ]
  },
  {
   "cell_type": "code",
   "execution_count": 45,
   "metadata": {},
   "outputs": [
    {
     "data": {
      "text/plain": [
       "1.0764449235064304"
      ]
     },
     "execution_count": 45,
     "metadata": {},
     "output_type": "execute_result"
    }
   ],
   "source": [
    "for eye in np.unique(MSC_no_eyespot.Eyespot): #selecting the Eyespot column in the newly created dataset of just samples without an eyespot\n",
    "    eye_data = MSC_no_eyespot.loc[MSC_no_eyespot['Eyespot'] == eye]\n",
    "    avg_noeye_size = np.mean(eye_data.Size) #calculating the average size of spat without an eyespot\n",
    "    \n",
    "avg_noeye_size"
   ]
  },
  {
   "cell_type": "markdown",
   "metadata": {},
   "source": [
    "The average size of spat without an eyespot is about 1.076 mm."
   ]
  },
  {
   "cell_type": "code",
   "execution_count": 46,
   "metadata": {},
   "outputs": [
    {
     "name": "stdout",
     "output_type": "stream",
     "text": [
      "0    True\n",
      "1    True\n",
      "2    True\n",
      "3    True\n",
      "4    True\n",
      "Name: Eyespot, dtype: bool\n"
     ]
    }
   ],
   "source": [
    "#Filtering the dataframe based on spat with an eyespot\n",
    "eyespot =  MSC['Eyespot']==1\n",
    "print(eyespot.head()) #looking at results as a boolean variable"
   ]
  },
  {
   "cell_type": "code",
   "execution_count": 47,
   "metadata": {},
   "outputs": [
    {
     "name": "stdout",
     "output_type": "stream",
     "text": [
      "(3346, 16)\n"
     ]
    }
   ],
   "source": [
    "MSC_eyespot = MSC[eyespot] #Filtering dataset using boolean variable \n",
    "print(MSC_eyespot.shape) #checking the size of the data frame "
   ]
  },
  {
   "cell_type": "code",
   "execution_count": 48,
   "metadata": {},
   "outputs": [
    {
     "data": {
      "text/plain": [
       "0.6288209922295281"
      ]
     },
     "execution_count": 48,
     "metadata": {},
     "output_type": "execute_result"
    }
   ],
   "source": [
    "for eye in np.unique(MSC_eyespot.Eyespot): #selecting the Eyespot column in the newly created dataset of just samples with an eyespot\n",
    "    eye_data = MSC_eyespot.loc[MSC_eyespot['Eyespot'] == eye]\n",
    "    avg_eye_size = np.mean(eye_data.Size) #calculating the average size of spat with an eyespot\n",
    "    \n",
    "avg_eye_size"
   ]
  },
  {
   "cell_type": "markdown",
   "metadata": {},
   "source": [
    "The average spat size with an eyespot is about 0.629 mm. "
   ]
  },
  {
   "cell_type": "markdown",
   "metadata": {},
   "source": [
    "We then ran a t-test to test if we reject or fail to reject our null hypothesis:\n",
    "\n",
    "Null: There is no significant difference in average size between spat with an eyespot and spat without an eyespot.\n",
    "\n",
    "\n",
    "Steps to run the t-test come from: [Amulya Aankul](https://towardsdatascience.com/inferential-statistics-series-t-test-using-numpy-2718f8f9bf2f).\n",
    "\n",
    "First, we calculate the standard deviation. To get the standard deviation, we must first calculate the variance in size data for both the dataset of spat without an eyespot and spat with an eyespot. Standard deviation is then calculated as the square root of variance_a (size of spat without an eyespot) + variance_b (size of spat with an eyespot) divided by 2. The t-statistics are then calculated subtracting the average size of spat with an eyespot from the average size of spat without an eyespot and dividing that value by the standard deviation * square root of 2 divided by the sample size (8719). We then calculated the degrees of freedom as 2 times the sample size minus 2. The p-value is then calculated using the t-statistics and degrees of freedom. "
   ]
  },
  {
   "cell_type": "code",
   "execution_count": 49,
   "metadata": {},
   "outputs": [],
   "source": [
    "## Calculate the Standard Deviation\n",
    "#Calculate the variance to get the standard deviation\n",
    "\n",
    "#For unbiased max likelihood estimate we have to divide the var by N-1, and therefore the parameter ddof = 1\n",
    "var_a = MSC_no_eyespot.Size.var(ddof=1)\n",
    "var_b = MSC_eyespot.Size.var(ddof=1)"
   ]
  },
  {
   "cell_type": "code",
   "execution_count": 50,
   "metadata": {},
   "outputs": [
    {
     "data": {
      "text/plain": [
       "0.45624176965480556"
      ]
     },
     "execution_count": 50,
     "metadata": {},
     "output_type": "execute_result"
    }
   ],
   "source": [
    "#std deviation\n",
    "s = np.sqrt((var_a + var_b)/2)\n",
    "s"
   ]
  },
  {
   "cell_type": "code",
   "execution_count": 51,
   "metadata": {},
   "outputs": [],
   "source": [
    "## Calculate the t-statistics\n",
    "t = (MSC_no_eyespot.Size.mean() - MSC_eyespot.Size.mean())/(s*np.sqrt(2/8719))"
   ]
  },
  {
   "cell_type": "code",
   "execution_count": 52,
   "metadata": {},
   "outputs": [],
   "source": [
    "## Compare with the critical t-value\n",
    "#Degrees of freedom\n",
    "df = 8719 - 2"
   ]
  },
  {
   "cell_type": "code",
   "execution_count": 53,
   "metadata": {},
   "outputs": [],
   "source": [
    "#p-value after comparison with the t \n",
    "p = 1 - stats.t.cdf(t,df=df)"
   ]
  },
  {
   "cell_type": "code",
   "execution_count": 54,
   "metadata": {},
   "outputs": [
    {
     "name": "stdout",
     "output_type": "stream",
     "text": [
      "t = 64.77935135101025\n",
      "p = 0.0\n"
     ]
    }
   ],
   "source": [
    "print(\"t = \" + str(t))\n",
    "print(\"p = \" + str(p))"
   ]
  },
  {
   "cell_type": "code",
   "execution_count": 55,
   "metadata": {},
   "outputs": [
    {
     "name": "stdout",
     "output_type": "stream",
     "text": [
      "t = 41.78001686416939\n",
      "p = 0.0\n"
     ]
    }
   ],
   "source": [
    "## Cross Checking with the internal scipy function\n",
    "t2, p2 = stats.ttest_ind(MSC_no_eyespot.Size, MSC_eyespot.Size)\n",
    "print(\"t = \" + str(t2))\n",
    "print(\"p = \" + str(p2))"
   ]
  },
  {
   "cell_type": "code",
   "execution_count": 56,
   "metadata": {},
   "outputs": [
    {
     "data": {
      "text/plain": [
       "Ttest_indResult(statistic=41.78001686416939, pvalue=0.0)"
      ]
     },
     "execution_count": 56,
     "metadata": {},
     "output_type": "execute_result"
    }
   ],
   "source": [
    "stats.ttest_ind(MSC_no_eyespot.Size, MSC_eyespot.Size)"
   ]
  },
  {
   "cell_type": "markdown",
   "metadata": {},
   "source": [
    "I am hesitant to trust the results of the t-test because the p-value is zero. However, interpreting (with a lump of salt): we reject the null hypothesis as there is a significant difference in spat size between those without an eyespot and those with an eyespot (p-value < 0.05 (p = 0.0)). "
   ]
  },
  {
   "cell_type": "markdown",
   "metadata": {},
   "source": [
    "Spat likely lose their eyespot somewhere between 0.6 mm and ~1 mm typically. However, there are cases where some spat lose their eyespot sooner or later. "
   ]
  }
 ],
 "metadata": {
  "kernelspec": {
   "display_name": "Python 3",
   "language": "python",
   "name": "python3"
  },
  "language_info": {
   "codemirror_mode": {
    "name": "ipython",
    "version": 3
   },
   "file_extension": ".py",
   "mimetype": "text/x-python",
   "name": "python",
   "nbconvert_exporter": "python",
   "pygments_lexer": "ipython3",
   "version": "3.7.4"
  }
 },
 "nbformat": 4,
 "nbformat_minor": 2
}
